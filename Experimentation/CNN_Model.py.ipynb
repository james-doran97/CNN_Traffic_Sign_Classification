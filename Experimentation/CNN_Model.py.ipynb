{
 "cells": [
  {
   "cell_type": "markdown",
   "id": "ecd61509",
   "metadata": {},
   "source": [
    "# Initial Experimentation Notebook"
   ]
  },
  {
   "cell_type": "markdown",
   "id": "de7f649e",
   "metadata": {},
   "source": [
    "### Imports"
   ]
  },
  {
   "cell_type": "code",
   "execution_count": 59,
   "id": "c8ee9b47",
   "metadata": {},
   "outputs": [],
   "source": [
    "import tensorflow as tf\n",
    "import numpy as np\n",
    "import pandas as pd\n",
    "import matplotlib.pyplot as plt\n",
    "import os\n",
    "from tensorflow.keras.layers import Dense , Flatten , Dropout , Conv2D , MaxPooling2D\n",
    "from tensorflow.keras.models import Model , Sequential\n",
    "from tensorflow.keras.optimizers import Adam\n",
    "from tensorflow.keras.layers.experimental.preprocessing import Rescaling\n",
    "from tensorflow.keras.callbacks import EarlyStopping\n",
    "from keras.utils.np_utils import to_categorical\n",
    "import cv2\n",
    "from sklearn.model_selection import train_test_split\n",
    "import json\n",
    "\n",
    "\n"
   ]
  },
  {
   "cell_type": "markdown",
   "id": "6551a14a",
   "metadata": {},
   "source": [
    "### Data import"
   ]
  },
  {
   "cell_type": "code",
   "execution_count": 60,
   "id": "640acd2a",
   "metadata": {},
   "outputs": [],
   "source": [
    "labels_path = \"C:\\\\Users\\\\boodo\\\\Documents\\\\Personal Projects\\\\Traffic_Sign_CNN\\\\labels.csv\"\n",
    "data_path = \"C:\\\\Users\\\\boodo\\\\Documents\\\\Personal Projects\\\\Traffic_Sign_CNN\\\\traffic_Data\\\\DATA\"\n",
    "labels = pd.read_csv(labels_path)"
   ]
  },
  {
   "cell_type": "code",
   "execution_count": 61,
   "id": "f4788c24",
   "metadata": {},
   "outputs": [
    {
     "data": {
      "text/html": [
       "<div>\n",
       "<style scoped>\n",
       "    .dataframe tbody tr th:only-of-type {\n",
       "        vertical-align: middle;\n",
       "    }\n",
       "\n",
       "    .dataframe tbody tr th {\n",
       "        vertical-align: top;\n",
       "    }\n",
       "\n",
       "    .dataframe thead th {\n",
       "        text-align: right;\n",
       "    }\n",
       "</style>\n",
       "<table border=\"1\" class=\"dataframe\">\n",
       "  <thead>\n",
       "    <tr style=\"text-align: right;\">\n",
       "      <th></th>\n",
       "      <th>ClassId</th>\n",
       "      <th>Name</th>\n",
       "    </tr>\n",
       "  </thead>\n",
       "  <tbody>\n",
       "    <tr>\n",
       "      <th>0</th>\n",
       "      <td>0</td>\n",
       "      <td>Speed limit (5km/h)</td>\n",
       "    </tr>\n",
       "    <tr>\n",
       "      <th>1</th>\n",
       "      <td>1</td>\n",
       "      <td>Speed limit (15km/h)</td>\n",
       "    </tr>\n",
       "    <tr>\n",
       "      <th>2</th>\n",
       "      <td>2</td>\n",
       "      <td>Speed limit (30km/h)</td>\n",
       "    </tr>\n",
       "    <tr>\n",
       "      <th>3</th>\n",
       "      <td>3</td>\n",
       "      <td>Speed limit (40km/h)</td>\n",
       "    </tr>\n",
       "    <tr>\n",
       "      <th>4</th>\n",
       "      <td>4</td>\n",
       "      <td>Speed limit (50km/h)</td>\n",
       "    </tr>\n",
       "    <tr>\n",
       "      <th>5</th>\n",
       "      <td>5</td>\n",
       "      <td>Speed limit (60km/h)</td>\n",
       "    </tr>\n",
       "    <tr>\n",
       "      <th>6</th>\n",
       "      <td>6</td>\n",
       "      <td>Speed limit (70km/h)</td>\n",
       "    </tr>\n",
       "    <tr>\n",
       "      <th>7</th>\n",
       "      <td>7</td>\n",
       "      <td>speed limit (80km/h)</td>\n",
       "    </tr>\n",
       "    <tr>\n",
       "      <th>8</th>\n",
       "      <td>8</td>\n",
       "      <td>Dont Go straight or left</td>\n",
       "    </tr>\n",
       "    <tr>\n",
       "      <th>9</th>\n",
       "      <td>9</td>\n",
       "      <td>Dont Go straight or Right</td>\n",
       "    </tr>\n",
       "    <tr>\n",
       "      <th>10</th>\n",
       "      <td>10</td>\n",
       "      <td>Dont Go straight</td>\n",
       "    </tr>\n",
       "    <tr>\n",
       "      <th>11</th>\n",
       "      <td>11</td>\n",
       "      <td>Dont Go Left</td>\n",
       "    </tr>\n",
       "    <tr>\n",
       "      <th>12</th>\n",
       "      <td>12</td>\n",
       "      <td>Dont Go Left or Right</td>\n",
       "    </tr>\n",
       "    <tr>\n",
       "      <th>13</th>\n",
       "      <td>13</td>\n",
       "      <td>Dont Go Right</td>\n",
       "    </tr>\n",
       "    <tr>\n",
       "      <th>14</th>\n",
       "      <td>14</td>\n",
       "      <td>Dont overtake from Left</td>\n",
       "    </tr>\n",
       "    <tr>\n",
       "      <th>15</th>\n",
       "      <td>15</td>\n",
       "      <td>No Uturn</td>\n",
       "    </tr>\n",
       "    <tr>\n",
       "      <th>16</th>\n",
       "      <td>16</td>\n",
       "      <td>No Car</td>\n",
       "    </tr>\n",
       "    <tr>\n",
       "      <th>17</th>\n",
       "      <td>17</td>\n",
       "      <td>No horn</td>\n",
       "    </tr>\n",
       "    <tr>\n",
       "      <th>18</th>\n",
       "      <td>18</td>\n",
       "      <td>Speed limit (40km/h)</td>\n",
       "    </tr>\n",
       "    <tr>\n",
       "      <th>19</th>\n",
       "      <td>19</td>\n",
       "      <td>Speed limit (50km/h)</td>\n",
       "    </tr>\n",
       "    <tr>\n",
       "      <th>20</th>\n",
       "      <td>20</td>\n",
       "      <td>Go straight or right</td>\n",
       "    </tr>\n",
       "    <tr>\n",
       "      <th>21</th>\n",
       "      <td>21</td>\n",
       "      <td>Go straight</td>\n",
       "    </tr>\n",
       "    <tr>\n",
       "      <th>22</th>\n",
       "      <td>22</td>\n",
       "      <td>Go Left</td>\n",
       "    </tr>\n",
       "    <tr>\n",
       "      <th>23</th>\n",
       "      <td>23</td>\n",
       "      <td>Go Left or right</td>\n",
       "    </tr>\n",
       "    <tr>\n",
       "      <th>24</th>\n",
       "      <td>24</td>\n",
       "      <td>Go Right</td>\n",
       "    </tr>\n",
       "    <tr>\n",
       "      <th>25</th>\n",
       "      <td>25</td>\n",
       "      <td>keep Left</td>\n",
       "    </tr>\n",
       "    <tr>\n",
       "      <th>26</th>\n",
       "      <td>26</td>\n",
       "      <td>keep Right</td>\n",
       "    </tr>\n",
       "    <tr>\n",
       "      <th>27</th>\n",
       "      <td>27</td>\n",
       "      <td>Roundabout mandatory</td>\n",
       "    </tr>\n",
       "    <tr>\n",
       "      <th>28</th>\n",
       "      <td>28</td>\n",
       "      <td>watch out for cars</td>\n",
       "    </tr>\n",
       "    <tr>\n",
       "      <th>29</th>\n",
       "      <td>29</td>\n",
       "      <td>Horn</td>\n",
       "    </tr>\n",
       "    <tr>\n",
       "      <th>30</th>\n",
       "      <td>30</td>\n",
       "      <td>Bicycles crossing</td>\n",
       "    </tr>\n",
       "    <tr>\n",
       "      <th>31</th>\n",
       "      <td>31</td>\n",
       "      <td>Uturn</td>\n",
       "    </tr>\n",
       "    <tr>\n",
       "      <th>32</th>\n",
       "      <td>32</td>\n",
       "      <td>Road Divider</td>\n",
       "    </tr>\n",
       "    <tr>\n",
       "      <th>33</th>\n",
       "      <td>33</td>\n",
       "      <td>Traffic signals</td>\n",
       "    </tr>\n",
       "    <tr>\n",
       "      <th>34</th>\n",
       "      <td>34</td>\n",
       "      <td>Danger Ahead</td>\n",
       "    </tr>\n",
       "    <tr>\n",
       "      <th>35</th>\n",
       "      <td>35</td>\n",
       "      <td>Zebra Crossing</td>\n",
       "    </tr>\n",
       "    <tr>\n",
       "      <th>36</th>\n",
       "      <td>36</td>\n",
       "      <td>Bicycles crossing</td>\n",
       "    </tr>\n",
       "    <tr>\n",
       "      <th>37</th>\n",
       "      <td>37</td>\n",
       "      <td>Children crossing</td>\n",
       "    </tr>\n",
       "    <tr>\n",
       "      <th>38</th>\n",
       "      <td>38</td>\n",
       "      <td>Dangerous curve to the left</td>\n",
       "    </tr>\n",
       "    <tr>\n",
       "      <th>39</th>\n",
       "      <td>39</td>\n",
       "      <td>Dangerous curve to the right</td>\n",
       "    </tr>\n",
       "    <tr>\n",
       "      <th>40</th>\n",
       "      <td>40</td>\n",
       "      <td>Unknown1</td>\n",
       "    </tr>\n",
       "    <tr>\n",
       "      <th>41</th>\n",
       "      <td>41</td>\n",
       "      <td>Unknown2</td>\n",
       "    </tr>\n",
       "    <tr>\n",
       "      <th>42</th>\n",
       "      <td>42</td>\n",
       "      <td>Unknown3</td>\n",
       "    </tr>\n",
       "    <tr>\n",
       "      <th>43</th>\n",
       "      <td>43</td>\n",
       "      <td>Go right or straight</td>\n",
       "    </tr>\n",
       "    <tr>\n",
       "      <th>44</th>\n",
       "      <td>44</td>\n",
       "      <td>Go left or straight</td>\n",
       "    </tr>\n",
       "    <tr>\n",
       "      <th>45</th>\n",
       "      <td>45</td>\n",
       "      <td>Unknown4</td>\n",
       "    </tr>\n",
       "    <tr>\n",
       "      <th>46</th>\n",
       "      <td>46</td>\n",
       "      <td>ZigZag Curve</td>\n",
       "    </tr>\n",
       "    <tr>\n",
       "      <th>47</th>\n",
       "      <td>47</td>\n",
       "      <td>Train Crossing</td>\n",
       "    </tr>\n",
       "    <tr>\n",
       "      <th>48</th>\n",
       "      <td>48</td>\n",
       "      <td>Under Construction</td>\n",
       "    </tr>\n",
       "    <tr>\n",
       "      <th>49</th>\n",
       "      <td>49</td>\n",
       "      <td>Unknown5</td>\n",
       "    </tr>\n",
       "    <tr>\n",
       "      <th>50</th>\n",
       "      <td>50</td>\n",
       "      <td>Fences</td>\n",
       "    </tr>\n",
       "    <tr>\n",
       "      <th>51</th>\n",
       "      <td>51</td>\n",
       "      <td>Heavy Vehicle Accidents</td>\n",
       "    </tr>\n",
       "    <tr>\n",
       "      <th>52</th>\n",
       "      <td>52</td>\n",
       "      <td>Unknown6</td>\n",
       "    </tr>\n",
       "    <tr>\n",
       "      <th>53</th>\n",
       "      <td>53</td>\n",
       "      <td>Give Way</td>\n",
       "    </tr>\n",
       "    <tr>\n",
       "      <th>54</th>\n",
       "      <td>54</td>\n",
       "      <td>No stopping</td>\n",
       "    </tr>\n",
       "    <tr>\n",
       "      <th>55</th>\n",
       "      <td>55</td>\n",
       "      <td>No entry</td>\n",
       "    </tr>\n",
       "    <tr>\n",
       "      <th>56</th>\n",
       "      <td>56</td>\n",
       "      <td>Unknown7</td>\n",
       "    </tr>\n",
       "    <tr>\n",
       "      <th>57</th>\n",
       "      <td>57</td>\n",
       "      <td>Unknown8</td>\n",
       "    </tr>\n",
       "  </tbody>\n",
       "</table>\n",
       "</div>"
      ],
      "text/plain": [
       "    ClassId                          Name\n",
       "0         0           Speed limit (5km/h)\n",
       "1         1          Speed limit (15km/h)\n",
       "2         2          Speed limit (30km/h)\n",
       "3         3          Speed limit (40km/h)\n",
       "4         4          Speed limit (50km/h)\n",
       "5         5          Speed limit (60km/h)\n",
       "6         6          Speed limit (70km/h)\n",
       "7         7          speed limit (80km/h)\n",
       "8         8      Dont Go straight or left\n",
       "9         9     Dont Go straight or Right\n",
       "10       10              Dont Go straight\n",
       "11       11                  Dont Go Left\n",
       "12       12         Dont Go Left or Right\n",
       "13       13                 Dont Go Right\n",
       "14       14       Dont overtake from Left\n",
       "15       15                      No Uturn\n",
       "16       16                        No Car\n",
       "17       17                       No horn\n",
       "18       18          Speed limit (40km/h)\n",
       "19       19          Speed limit (50km/h)\n",
       "20       20          Go straight or right\n",
       "21       21                   Go straight\n",
       "22       22                       Go Left\n",
       "23       23              Go Left or right\n",
       "24       24                      Go Right\n",
       "25       25                     keep Left\n",
       "26       26                    keep Right\n",
       "27       27          Roundabout mandatory\n",
       "28       28            watch out for cars\n",
       "29       29                          Horn\n",
       "30       30             Bicycles crossing\n",
       "31       31                         Uturn\n",
       "32       32                  Road Divider\n",
       "33       33               Traffic signals\n",
       "34       34                  Danger Ahead\n",
       "35       35                Zebra Crossing\n",
       "36       36             Bicycles crossing\n",
       "37       37             Children crossing\n",
       "38       38   Dangerous curve to the left\n",
       "39       39  Dangerous curve to the right\n",
       "40       40                      Unknown1\n",
       "41       41                      Unknown2\n",
       "42       42                      Unknown3\n",
       "43       43          Go right or straight\n",
       "44       44           Go left or straight\n",
       "45       45                      Unknown4\n",
       "46       46                  ZigZag Curve\n",
       "47       47                Train Crossing\n",
       "48       48            Under Construction\n",
       "49       49                      Unknown5\n",
       "50       50                        Fences\n",
       "51       51       Heavy Vehicle Accidents\n",
       "52       52                      Unknown6\n",
       "53       53                      Give Way\n",
       "54       54                   No stopping\n",
       "55       55                      No entry\n",
       "56       56                      Unknown7\n",
       "57       57                      Unknown8"
      ]
     },
     "execution_count": 61,
     "metadata": {},
     "output_type": "execute_result"
    }
   ],
   "source": [
    "labels"
   ]
  },
  {
   "cell_type": "markdown",
   "id": "a2d34353",
   "metadata": {},
   "source": [
    "#### Data Exploration"
   ]
  },
  {
   "cell_type": "code",
   "execution_count": 27,
   "id": "f708ff8b",
   "metadata": {},
   "outputs": [
    {
     "name": "stdout",
     "output_type": "stream",
     "text": [
      "(108, 123, 3)\n"
     ]
    }
   ],
   "source": [
    "img = cv2.imread('C:\\\\Users\\\\boodo\\Documents\\\\Personal Projects\\\\Traffic_Sign_CNN\\\\traffic_Data\\\\DATA\\\\0\\\\000_1_0006.png')\n",
    "dimensions = img.shape\n",
    "print(dimensions)"
   ]
  },
  {
   "cell_type": "code",
   "execution_count": 28,
   "id": "5826ed6a",
   "metadata": {
    "scrolled": true
   },
   "outputs": [
    {
     "name": "stdout",
     "output_type": "stream",
     "text": [
      "(146, 154, 3)\n"
     ]
    }
   ],
   "source": [
    "img = cv2.imread('C:\\\\Users\\\\boodo\\Documents\\\\Personal Projects\\\\Traffic_Sign_CNN\\\\traffic_Data\\\\DATA\\\\17\\\\017_1_0006.png')\n",
    "dimensions = img.shape\n",
    "print(dimensions)"
   ]
  },
  {
   "cell_type": "markdown",
   "id": "6469ab30",
   "metadata": {},
   "source": [
    "### Hyperparameters and Constants"
   ]
  },
  {
   "cell_type": "code",
   "execution_count": 62,
   "id": "df2f79d7",
   "metadata": {},
   "outputs": [],
   "source": [
    "with open(\"C:\\\\Users\\\\boodo\\\\Documents\\\\Personal Projects\\\\Traffic_Sign_CNN\\\\hyperparameters\\\\hyperparameters.json\") as h:\n",
    "    hyperparameters = json.load(h)"
   ]
  },
  {
   "cell_type": "code",
   "execution_count": 63,
   "id": "df0306db",
   "metadata": {},
   "outputs": [],
   "source": [
    "epochs = hyperparameters[\"hyperparameters\"][0][\"epochs\"]\n",
    "epoch_steps = hyperparameters[\"hyperparameters\"][0][\"epch_steps\"]\n",
    "ratio = hyperparameters[\"hyperparameters\"][0][\"test_ratio\"]\n",
    "batch_size = hyperparameters[\"hyperparameters\"][0][\"batch_size\"]\n",
    "no_of_nodes = hyperparameters[\"hyperparameters\"][0][\"no_of_nodes\"]\n",
    "learning_rate = hyperparameters[\"hyperparameters\"][0][\"learning_rate\"]\n",
    "no_of_filters = hyperparameters[\"hyperparameters\"][0][\"no_of_filters\"]\n",
    "\n",
    "imageDimensions = (32,32,3)\n",
    "size_of_filters=(5,5)\n",
    "size_of_filters_2=(3,3)\n",
    "size_of_pool=(2,2)\n",
    "\n",
    "\n",
    "\n",
    "# for sake of initial dev, test ratio and validation ratio the same"
   ]
  },
  {
   "cell_type": "markdown",
   "id": "9f73e997",
   "metadata": {},
   "source": [
    "### Loading Image Data "
   ]
  },
  {
   "cell_type": "markdown",
   "id": "a4ba742a",
   "metadata": {},
   "source": [
    "#### Image data loaded in Grayscale, before additional preprocessing defined in img_preprocessing file"
   ]
  },
  {
   "cell_type": "code",
   "execution_count": 64,
   "id": "44540c9f",
   "metadata": {},
   "outputs": [
    {
     "name": "stdout",
     "output_type": "stream",
     "text": [
      "Class Count: 58\n"
     ]
    }
   ],
   "source": [
    "count = 0\n",
    "img_class = []\n",
    "images = []\n",
    "files = os.listdir(data_path)\n",
    "class_count = len(files)\n",
    "print(\"Class Count:\", class_count)\n",
    "\n",
    "\n",
    "for category in range (0,class_count):\n",
    "        sign_img=os.listdir(data_path + \"//\" + str(count))\n",
    "        for img in sign_img:\n",
    "            sign=cv2.imread(data_path+\"/\"+str(count)+\"/\"+ img, 0)\n",
    "            img_class.append(count)\n",
    "            images.append(sign)\n",
    "                \n",
    "        count=count+1\n",
    "\n"
   ]
  },
  {
   "cell_type": "markdown",
   "id": "3da4a700",
   "metadata": {},
   "source": [
    "#### Images and classes converted into numpy arrays"
   ]
  },
  {
   "cell_type": "code",
   "execution_count": 65,
   "id": "ebee23e4",
   "metadata": {},
   "outputs": [],
   "source": [
    "images = np.array(images, dtype=object)\n",
    "img_class = np.array(img_class, dtype=object)"
   ]
  },
  {
   "cell_type": "markdown",
   "id": "015b82d9",
   "metadata": {},
   "source": [
    "#### Test and train datasets created, train dataset along with shape printed to double check"
   ]
  },
  {
   "cell_type": "code",
   "execution_count": 67,
   "id": "09877131",
   "metadata": {},
   "outputs": [],
   "source": [
    "X_train, X_test, Y_train, Y_test = train_test_split(images,img_class,test_size=ratio)"
   ]
  },
  {
   "cell_type": "markdown",
   "id": "2e217641",
   "metadata": {},
   "source": [
    "#### Validation dataset created"
   ]
  },
  {
   "cell_type": "code",
   "execution_count": 68,
   "id": "11ad78d6",
   "metadata": {},
   "outputs": [],
   "source": [
    "X_train, X_validation ,Y_train, Y_validation = train_test_split(X_train,Y_train,test_size=ratio)"
   ]
  },
  {
   "cell_type": "markdown",
   "id": "1bbc31b3",
   "metadata": {},
   "source": [
    "#### Image preprocessing for model, grayscale images resized, and image pixel distributions resized"
   ]
  },
  {
   "cell_type": "code",
   "execution_count": 233,
   "id": "6fd96b6d",
   "metadata": {},
   "outputs": [],
   "source": [
    "def img_processing(img):\n",
    "    img = cv2.resize(img,(100,100))\n",
    "    img=cv2.equalizeHist(img)\n",
    "    img=img/255.0\n",
    "    \n",
    "    return img"
   ]
  },
  {
   "cell_type": "markdown",
   "id": "cc4e19b6",
   "metadata": {},
   "source": [
    "#### Mapping"
   ]
  },
  {
   "cell_type": "code",
   "execution_count": 69,
   "id": "59183d00",
   "metadata": {},
   "outputs": [],
   "source": [
    "X_train=np.array(list(map(img_processing,X_train)))\n",
    "X_validation=np.array(list(map(img_processing,X_validation)))\n",
    "X_test=np.array(list(map(img_processing,X_test)))\n",
    "\n",
    "\n",
    "Y_train=to_categorical(Y_train,class_count)\n",
    "Y_validation=to_categorical(Y_validation,class_count)\n",
    "Y_test=to_categorical(Y_test,class_count)\n"
   ]
  },
  {
   "cell_type": "markdown",
   "id": "c9e6c68d",
   "metadata": {},
   "source": [
    "#### The following code is to test the saving of the datasets to files, as this will be done in the pipeline. Data needs to be reshaped to a 2D array before using the savetxt method. The data is then loaded and reshaped back into a 3D array"
   ]
  },
  {
   "cell_type": "code",
   "execution_count": 55,
   "id": "13dbfa34",
   "metadata": {},
   "outputs": [],
   "source": [
    "X_train_reshaped = X_train.reshape(X_train.shape[0] ,-1)\n",
    "np.savetxt(\"X_train.txt\", X_train_reshaped)"
   ]
  },
  {
   "cell_type": "code",
   "execution_count": 56,
   "id": "d66a4239",
   "metadata": {},
   "outputs": [],
   "source": [
    "loaded_X_train = np.loadtxt(\"X_train.txt\")"
   ]
  },
  {
   "cell_type": "code",
   "execution_count": 73,
   "id": "7ea8cded",
   "metadata": {},
   "outputs": [
    {
     "data": {
      "text/plain": [
       "100"
      ]
     },
     "execution_count": 73,
     "metadata": {},
     "output_type": "execute_result"
    }
   ],
   "source": [
    "X_train.shape[2]"
   ]
  },
  {
   "cell_type": "code",
   "execution_count": 57,
   "id": "a8ba1286",
   "metadata": {},
   "outputs": [],
   "source": [
    "X_train_org = loaded_X_train.reshape(loaded_X_train.shape[0], loaded_X_train.shape[1] // X_train.shape[2], X_train.shape[2])"
   ]
  },
  {
   "cell_type": "code",
   "execution_count": 58,
   "id": "d586d87c",
   "metadata": {},
   "outputs": [
    {
     "name": "stdout",
     "output_type": "stream",
     "text": [
      "pass\n"
     ]
    }
   ],
   "source": [
    "if (X_train==X_train_org).all():\n",
    "    print(\"pass\")"
   ]
  },
  {
   "cell_type": "code",
   "execution_count": 72,
   "id": "9bc7b121",
   "metadata": {},
   "outputs": [],
   "source": [
    "type(Y_train)\n",
    "np.savetxt(\"X_train.txt\", X_train_reshaped)"
   ]
  },
  {
   "cell_type": "markdown",
   "id": "c86ec842",
   "metadata": {},
   "source": [
    "#### Definition of CNN model"
   ]
  },
  {
   "cell_type": "code",
   "execution_count": 70,
   "id": "f5dd2db6",
   "metadata": {},
   "outputs": [],
   "source": [
    "def model():\n",
    "\n",
    "    \n",
    "    model=Sequential()\n",
    "    model.add((Conv2D(no_of_filters,size_of_filters,input_shape=(100,100,1),activation='relu')))\n",
    "    model.add((Conv2D(no_of_filters,size_of_filters,activation='relu')))\n",
    "    model.add(MaxPooling2D(pool_size=size_of_pool))\n",
    "\n",
    "    model.add((Conv2D(no_of_filters//2,size_of_filters_2,activation='relu')))\n",
    "    model.add((Conv2D(no_of_filters//2,size_of_filters_2,activation='relu')))\n",
    "    model.add(MaxPooling2D(pool_size=size_of_pool))\n",
    "    model.add(Dropout(0.5))\n",
    "\n",
    "    model.add(Flatten())\n",
    "    model.add(Dense(no_of_nodes,activation='relu'))\n",
    "    model.add(Dropout(0.5))\n",
    "    model.add(Dense(class_count,activation='softmax'))\n",
    "    model.summary()\n",
    "    model.compile(Adam(learning_rate=learning_rate),loss='categorical_crossentropy',metrics=['accuracy'])\n",
    "    \n",
    "    return model"
   ]
  },
  {
   "cell_type": "markdown",
   "id": "292a4ec4",
   "metadata": {},
   "source": [
    "#### Model training "
   ]
  },
  {
   "cell_type": "code",
   "execution_count": 41,
   "id": "892c348d",
   "metadata": {},
   "outputs": [
    {
     "name": "stdout",
     "output_type": "stream",
     "text": [
      "Model: \"sequential_2\"\n",
      "_________________________________________________________________\n",
      " Layer (type)                Output Shape              Param #   \n",
      "=================================================================\n",
      " conv2d_8 (Conv2D)           (None, 96, 96, 60)        1560      \n",
      "                                                                 \n",
      " conv2d_9 (Conv2D)           (None, 92, 92, 60)        90060     \n",
      "                                                                 \n",
      " max_pooling2d_4 (MaxPooling  (None, 46, 46, 60)       0         \n",
      " 2D)                                                             \n",
      "                                                                 \n",
      " conv2d_10 (Conv2D)          (None, 44, 44, 30)        16230     \n",
      "                                                                 \n",
      " conv2d_11 (Conv2D)          (None, 42, 42, 30)        8130      \n",
      "                                                                 \n",
      " max_pooling2d_5 (MaxPooling  (None, 21, 21, 30)       0         \n",
      " 2D)                                                             \n",
      "                                                                 \n",
      " dropout_4 (Dropout)         (None, 21, 21, 30)        0         \n",
      "                                                                 \n",
      " flatten_2 (Flatten)         (None, 13230)             0         \n",
      "                                                                 \n",
      " dense_4 (Dense)             (None, 500)               6615500   \n",
      "                                                                 \n",
      " dropout_5 (Dropout)         (None, 500)               0         \n",
      "                                                                 \n",
      " dense_5 (Dense)             (None, 58)                29058     \n",
      "                                                                 \n",
      "=================================================================\n",
      "Total params: 6,760,538\n",
      "Trainable params: 6,760,538\n",
      "Non-trainable params: 0\n",
      "_________________________________________________________________\n",
      "Epoch 1/20\n",
      "100/100 [==============================] - 52s 511ms/step - loss: 3.4797 - accuracy: 0.1680 - val_loss: 2.6499 - val_accuracy: 0.3877\n",
      "Epoch 2/20\n",
      "100/100 [==============================] - 55s 550ms/step - loss: 2.1471 - accuracy: 0.4810 - val_loss: 1.4051 - val_accuracy: 0.6841\n",
      "Epoch 3/20\n",
      "100/100 [==============================] - 53s 530ms/step - loss: 1.2638 - accuracy: 0.6974 - val_loss: 0.8620 - val_accuracy: 0.7829\n",
      "Epoch 4/20\n",
      "100/100 [==============================] - 53s 529ms/step - loss: 0.8250 - accuracy: 0.7940 - val_loss: 0.6708 - val_accuracy: 0.8368\n",
      "Epoch 5/20\n",
      "100/100 [==============================] - 54s 537ms/step - loss: 0.7199 - accuracy: 0.8140 - val_loss: 0.4955 - val_accuracy: 0.8922\n",
      "Epoch 6/20\n",
      "100/100 [==============================] - 54s 537ms/step - loss: 0.4406 - accuracy: 0.8868 - val_loss: 0.3618 - val_accuracy: 0.9162\n",
      "Epoch 7/20\n",
      "100/100 [==============================] - 57s 572ms/step - loss: 0.3679 - accuracy: 0.8910 - val_loss: 0.3004 - val_accuracy: 0.9416\n",
      "Epoch 8/20\n",
      "100/100 [==============================] - 54s 536ms/step - loss: 0.2604 - accuracy: 0.9270 - val_loss: 0.2813 - val_accuracy: 0.9506\n",
      "Epoch 9/20\n",
      "100/100 [==============================] - 55s 548ms/step - loss: 0.1384 - accuracy: 0.9589 - val_loss: 0.2893 - val_accuracy: 0.9476\n",
      "Epoch 10/20\n",
      "100/100 [==============================] - 54s 539ms/step - loss: 0.2144 - accuracy: 0.9310 - val_loss: 0.1932 - val_accuracy: 0.9566\n",
      "Epoch 11/20\n",
      "100/100 [==============================] - 55s 547ms/step - loss: 0.1160 - accuracy: 0.9619 - val_loss: 0.2543 - val_accuracy: 0.9506\n",
      "Epoch 12/20\n",
      "100/100 [==============================] - 55s 551ms/step - loss: 0.1059 - accuracy: 0.9720 - val_loss: 0.2578 - val_accuracy: 0.9581\n",
      "Epoch 13/20\n",
      "100/100 [==============================] - 55s 547ms/step - loss: 0.1275 - accuracy: 0.9610 - val_loss: 0.1871 - val_accuracy: 0.9701\n",
      "Epoch 14/20\n",
      "100/100 [==============================] - 55s 547ms/step - loss: 0.1283 - accuracy: 0.9609 - val_loss: 0.1366 - val_accuracy: 0.9701\n",
      "Epoch 15/20\n",
      "100/100 [==============================] - 56s 564ms/step - loss: 0.0690 - accuracy: 0.9760 - val_loss: 0.1571 - val_accuracy: 0.9805\n",
      "Epoch 16/20\n",
      "100/100 [==============================] - 57s 572ms/step - loss: 0.1046 - accuracy: 0.9670 - val_loss: 0.1484 - val_accuracy: 0.9686\n",
      "Epoch 17/20\n",
      "100/100 [==============================] - 56s 559ms/step - loss: 0.0852 - accuracy: 0.9810 - val_loss: 0.1754 - val_accuracy: 0.9656\n",
      "Epoch 18/20\n",
      "100/100 [==============================] - 57s 569ms/step - loss: 0.0516 - accuracy: 0.9830 - val_loss: 0.2180 - val_accuracy: 0.9611\n",
      "Epoch 19/20\n",
      "100/100 [==============================] - 56s 563ms/step - loss: 0.0936 - accuracy: 0.9659 - val_loss: 0.1923 - val_accuracy: 0.9686\n",
      "Epoch 20/20\n",
      "100/100 [==============================] - 56s 556ms/step - loss: 0.0885 - accuracy: 0.9740 - val_loss: 0.1444 - val_accuracy: 0.9731\n",
      "Test Score:  0.2430516481399536\n",
      "Test Accuracy:  0.958033561706543\n"
     ]
    }
   ],
   "source": [
    "model=model()\n",
    "cnn_model=model.fit(X_train, Y_train,batch_size=batch_size,steps_per_epoch=epoch_steps,epochs=epochs,validation_data=(X_validation, Y_validation),shuffle=1)\n",
    "score=model.evaluate(X_test,Y_test,verbose=0)\n",
    "print('Test Score: ',score[0])\n",
    "print('Test Accuracy: ',score[1])"
   ]
  },
  {
   "cell_type": "markdown",
   "id": "88b60b23",
   "metadata": {},
   "source": [
    "#### Model Scoring"
   ]
  },
  {
   "cell_type": "code",
   "execution_count": null,
   "id": "849de327",
   "metadata": {},
   "outputs": [],
   "source": [
    "score=model.evaluate(X_test,Y_test,verbose=0)\n",
    "print('Eval Score: ',score[0])\n",
    "print('Eval Accuracy: ',score[1])"
   ]
  },
  {
   "cell_type": "markdown",
   "id": "def81ebe",
   "metadata": {},
   "source": [
    "#### Plotting of accuracy and loss, for training and validation"
   ]
  },
  {
   "cell_type": "code",
   "execution_count": 46,
   "id": "a2e84cdc",
   "metadata": {},
   "outputs": [
    {
     "name": "stdout",
     "output_type": "stream",
     "text": [
      "dict_keys(['loss', 'accuracy', 'val_loss', 'val_accuracy'])\n"
     ]
    },
    {
     "data": {
      "image/png": "[encoded data removed]",
      "text/plain": [
       "<Figure size 432x288 with 1 Axes>"
      ]
     },
     "metadata": {
      "needs_background": "light"
     },
     "output_type": "display_data"
    },
    {
     "data": {
      "image/png": "[encoded data removed]",
      "text/plain": [
       "<Figure size 432x288 with 1 Axes>"
      ]
     },
     "metadata": {
      "needs_background": "light"
     },
     "output_type": "display_data"
    }
   ],
   "source": [
    "print(cnn_model.history.keys())\n",
    "#  \"Accuracy\"\n",
    "plt.plot(cnn_model.history['accuracy'])\n",
    "plt.plot(cnn_model.history['val_accuracy'])\n",
    "plt.title('model accuracy')\n",
    "plt.ylabel('accuracy')\n",
    "plt.xlabel('epoch')\n",
    "plt.legend(['train', 'validation'], loc='upper left')\n",
    "plt.show()\n",
    "# \"Loss\"\n",
    "plt.plot(cnn_model.history['loss'])\n",
    "plt.plot(cnn_model.history['val_loss'])\n",
    "plt.title('model loss')\n",
    "plt.ylabel('loss')\n",
    "plt.xlabel('epoch')\n",
    "plt.legend(['train', 'validation'], loc='upper left')\n",
    "plt.show()"
   ]
  },
  {
   "cell_type": "code",
   "execution_count": null,
   "id": "7d488c3c",
   "metadata": {},
   "outputs": [],
   "source": []
  }
 ],
 "metadata": {
  "kernelspec": {
   "display_name": "Python 3 (ipykernel)",
   "language": "python",
   "name": "python3"
  },
  "language_info": {
   "codemirror_mode": {
    "name": "ipython",
    "version": 3
   },
   "file_extension": ".py",
   "mimetype": "text/x-python",
   "name": "python",
   "nbconvert_exporter": "python",
   "pygments_lexer": "ipython3",
   "version": "3.9.12"
  }
 },
 "nbformat": 4,
 "nbformat_minor": 5
}
