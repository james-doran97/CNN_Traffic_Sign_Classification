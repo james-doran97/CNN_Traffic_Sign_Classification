{
 "cells": [
  {
   "cell_type": "markdown",
   "id": "ecd61509",
   "metadata": {},
   "source": [
    "# Initial Experimentation Notebook"
   ]
  },
  {
   "cell_type": "markdown",
   "id": "de7f649e",
   "metadata": {},
   "source": [
    "### Imports"
   ]
  },
  {
   "cell_type": "code",
   "execution_count": 3,
   "id": "c8ee9b47",
   "metadata": {},
   "outputs": [],
   "source": [
    "import tensorflow as tf\n",
    "import numpy as np\n",
    "import pandas as pd\n",
    "import matplotlib.pyplot as plt\n",
    "import os\n",
    "from tensorflow.keras.layers import Dense , Flatten , Dropout , Conv2D , MaxPooling2D\n",
    "from tensorflow.keras.models import Model , Sequential\n",
    "from tensorflow.keras.optimizers import Adam\n",
    "from tensorflow.keras.layers.experimental.preprocessing import Rescaling\n",
    "from tensorflow.keras.callbacks import EarlyStopping\n",
    "from keras.utils.np_utils import to_categorical\n",
    "import cv2\n",
    "from sklearn.model_selection import train_test_split\n",
    "import json\n",
    "from tf_explain.core.grad_cam import GradCAM\n",
    "from tf_explain.callbacks.grad_cam import GradCAMCallback\n",
    "\n",
    "\n"
   ]
  },
  {
   "cell_type": "code",
   "execution_count": 1,
   "id": "72e503f5",
   "metadata": {},
   "outputs": [
    {
     "name": "stdout",
     "output_type": "stream",
     "text": [
      "Collecting tf-explain\n",
      "  Downloading tf_explain-0.3.1-py3-none-any.whl (43 kB)\n",
      "Installing collected packages: tf-explain\n",
      "Successfully installed tf-explain-0.3.1\n"
     ]
    },
    {
     "name": "stderr",
     "output_type": "stream",
     "text": [
      "WARNING: Retrying (Retry(total=4, connect=None, read=None, redirect=None, status=None)) after connection broken by 'ProtocolError('Connection aborted.', ConnectionResetError(10054, 'An existing connection was forcibly closed by the remote host', None, 10054, None))': /simple/tf-explain/\n",
      "WARNING: Retrying (Retry(total=3, connect=None, read=None, redirect=None, status=None)) after connection broken by 'ProtocolError('Connection aborted.', ConnectionResetError(10054, 'An existing connection was forcibly closed by the remote host', None, 10054, None))': /simple/tf-explain/\n",
      "WARNING: Retrying (Retry(total=2, connect=None, read=None, redirect=None, status=None)) after connection broken by 'ProtocolError('Connection aborted.', ConnectionResetError(10054, 'An existing connection was forcibly closed by the remote host', None, 10054, None))': /simple/tf-explain/\n",
      "WARNING: Retrying (Retry(total=1, connect=None, read=None, redirect=None, status=None)) after connection broken by 'ProtocolError('Connection aborted.', ConnectionResetError(10054, 'An existing connection was forcibly closed by the remote host', None, 10054, None))': /simple/tf-explain/\n"
     ]
    }
   ],
   "source": [
    "!pip install tf-explain"
   ]
  },
  {
   "cell_type": "markdown",
   "id": "6551a14a",
   "metadata": {},
   "source": [
    "### Data import"
   ]
  },
  {
   "cell_type": "code",
   "execution_count": 4,
   "id": "640acd2a",
   "metadata": {},
   "outputs": [],
   "source": [
    "labels_path = \"C:\\\\Users\\\\boodo\\\\Documents\\\\Personal Projects\\\\Traffic_Sign_CNN\\\\labels.csv\"\n",
    "data_path = \"C:\\\\Users\\\\boodo\\\\Documents\\\\Personal Projects\\\\Traffic_Sign_CNN\\\\traffic_Data\\\\DATA\"\n",
    "labels = pd.read_csv(labels_path)"
   ]
  },
  {
   "cell_type": "code",
   "execution_count": 5,
   "id": "f4788c24",
   "metadata": {},
   "outputs": [
    {
     "data": {
      "text/html": [
       "<div>\n",
       "<style scoped>\n",
       "    .dataframe tbody tr th:only-of-type {\n",
       "        vertical-align: middle;\n",
       "    }\n",
       "\n",
       "    .dataframe tbody tr th {\n",
       "        vertical-align: top;\n",
       "    }\n",
       "\n",
       "    .dataframe thead th {\n",
       "        text-align: right;\n",
       "    }\n",
       "</style>\n",
       "<table border=\"1\" class=\"dataframe\">\n",
       "  <thead>\n",
       "    <tr style=\"text-align: right;\">\n",
       "      <th></th>\n",
       "      <th>ClassId</th>\n",
       "      <th>Name</th>\n",
       "    </tr>\n",
       "  </thead>\n",
       "  <tbody>\n",
       "    <tr>\n",
       "      <th>0</th>\n",
       "      <td>0</td>\n",
       "      <td>Speed limit (5km/h)</td>\n",
       "    </tr>\n",
       "    <tr>\n",
       "      <th>1</th>\n",
       "      <td>1</td>\n",
       "      <td>Speed limit (15km/h)</td>\n",
       "    </tr>\n",
       "    <tr>\n",
       "      <th>2</th>\n",
       "      <td>2</td>\n",
       "      <td>Speed limit (30km/h)</td>\n",
       "    </tr>\n",
       "    <tr>\n",
       "      <th>3</th>\n",
       "      <td>3</td>\n",
       "      <td>Speed limit (40km/h)</td>\n",
       "    </tr>\n",
       "    <tr>\n",
       "      <th>4</th>\n",
       "      <td>4</td>\n",
       "      <td>Speed limit (50km/h)</td>\n",
       "    </tr>\n",
       "    <tr>\n",
       "      <th>5</th>\n",
       "      <td>5</td>\n",
       "      <td>Speed limit (60km/h)</td>\n",
       "    </tr>\n",
       "    <tr>\n",
       "      <th>6</th>\n",
       "      <td>6</td>\n",
       "      <td>Speed limit (70km/h)</td>\n",
       "    </tr>\n",
       "    <tr>\n",
       "      <th>7</th>\n",
       "      <td>7</td>\n",
       "      <td>speed limit (80km/h)</td>\n",
       "    </tr>\n",
       "    <tr>\n",
       "      <th>8</th>\n",
       "      <td>8</td>\n",
       "      <td>Dont Go straight or left</td>\n",
       "    </tr>\n",
       "    <tr>\n",
       "      <th>9</th>\n",
       "      <td>9</td>\n",
       "      <td>Dont Go straight or Right</td>\n",
       "    </tr>\n",
       "    <tr>\n",
       "      <th>10</th>\n",
       "      <td>10</td>\n",
       "      <td>Dont Go straight</td>\n",
       "    </tr>\n",
       "    <tr>\n",
       "      <th>11</th>\n",
       "      <td>11</td>\n",
       "      <td>Dont Go Left</td>\n",
       "    </tr>\n",
       "    <tr>\n",
       "      <th>12</th>\n",
       "      <td>12</td>\n",
       "      <td>Dont Go Left or Right</td>\n",
       "    </tr>\n",
       "    <tr>\n",
       "      <th>13</th>\n",
       "      <td>13</td>\n",
       "      <td>Dont Go Right</td>\n",
       "    </tr>\n",
       "    <tr>\n",
       "      <th>14</th>\n",
       "      <td>14</td>\n",
       "      <td>Dont overtake from Left</td>\n",
       "    </tr>\n",
       "    <tr>\n",
       "      <th>15</th>\n",
       "      <td>15</td>\n",
       "      <td>No Uturn</td>\n",
       "    </tr>\n",
       "    <tr>\n",
       "      <th>16</th>\n",
       "      <td>16</td>\n",
       "      <td>No Car</td>\n",
       "    </tr>\n",
       "    <tr>\n",
       "      <th>17</th>\n",
       "      <td>17</td>\n",
       "      <td>No horn</td>\n",
       "    </tr>\n",
       "    <tr>\n",
       "      <th>18</th>\n",
       "      <td>18</td>\n",
       "      <td>Speed limit (40km/h)</td>\n",
       "    </tr>\n",
       "    <tr>\n",
       "      <th>19</th>\n",
       "      <td>19</td>\n",
       "      <td>Speed limit (50km/h)</td>\n",
       "    </tr>\n",
       "    <tr>\n",
       "      <th>20</th>\n",
       "      <td>20</td>\n",
       "      <td>Go straight or right</td>\n",
       "    </tr>\n",
       "    <tr>\n",
       "      <th>21</th>\n",
       "      <td>21</td>\n",
       "      <td>Go straight</td>\n",
       "    </tr>\n",
       "    <tr>\n",
       "      <th>22</th>\n",
       "      <td>22</td>\n",
       "      <td>Go Left</td>\n",
       "    </tr>\n",
       "    <tr>\n",
       "      <th>23</th>\n",
       "      <td>23</td>\n",
       "      <td>Go Left or right</td>\n",
       "    </tr>\n",
       "    <tr>\n",
       "      <th>24</th>\n",
       "      <td>24</td>\n",
       "      <td>Go Right</td>\n",
       "    </tr>\n",
       "    <tr>\n",
       "      <th>25</th>\n",
       "      <td>25</td>\n",
       "      <td>keep Left</td>\n",
       "    </tr>\n",
       "    <tr>\n",
       "      <th>26</th>\n",
       "      <td>26</td>\n",
       "      <td>keep Right</td>\n",
       "    </tr>\n",
       "    <tr>\n",
       "      <th>27</th>\n",
       "      <td>27</td>\n",
       "      <td>Roundabout mandatory</td>\n",
       "    </tr>\n",
       "    <tr>\n",
       "      <th>28</th>\n",
       "      <td>28</td>\n",
       "      <td>watch out for cars</td>\n",
       "    </tr>\n",
       "    <tr>\n",
       "      <th>29</th>\n",
       "      <td>29</td>\n",
       "      <td>Horn</td>\n",
       "    </tr>\n",
       "    <tr>\n",
       "      <th>30</th>\n",
       "      <td>30</td>\n",
       "      <td>Bicycles crossing</td>\n",
       "    </tr>\n",
       "    <tr>\n",
       "      <th>31</th>\n",
       "      <td>31</td>\n",
       "      <td>Uturn</td>\n",
       "    </tr>\n",
       "    <tr>\n",
       "      <th>32</th>\n",
       "      <td>32</td>\n",
       "      <td>Road Divider</td>\n",
       "    </tr>\n",
       "    <tr>\n",
       "      <th>33</th>\n",
       "      <td>33</td>\n",
       "      <td>Traffic signals</td>\n",
       "    </tr>\n",
       "    <tr>\n",
       "      <th>34</th>\n",
       "      <td>34</td>\n",
       "      <td>Danger Ahead</td>\n",
       "    </tr>\n",
       "    <tr>\n",
       "      <th>35</th>\n",
       "      <td>35</td>\n",
       "      <td>Zebra Crossing</td>\n",
       "    </tr>\n",
       "    <tr>\n",
       "      <th>36</th>\n",
       "      <td>36</td>\n",
       "      <td>Bicycles crossing</td>\n",
       "    </tr>\n",
       "    <tr>\n",
       "      <th>37</th>\n",
       "      <td>37</td>\n",
       "      <td>Children crossing</td>\n",
       "    </tr>\n",
       "    <tr>\n",
       "      <th>38</th>\n",
       "      <td>38</td>\n",
       "      <td>Dangerous curve to the left</td>\n",
       "    </tr>\n",
       "    <tr>\n",
       "      <th>39</th>\n",
       "      <td>39</td>\n",
       "      <td>Dangerous curve to the right</td>\n",
       "    </tr>\n",
       "    <tr>\n",
       "      <th>40</th>\n",
       "      <td>40</td>\n",
       "      <td>Unknown1</td>\n",
       "    </tr>\n",
       "    <tr>\n",
       "      <th>41</th>\n",
       "      <td>41</td>\n",
       "      <td>Unknown2</td>\n",
       "    </tr>\n",
       "    <tr>\n",
       "      <th>42</th>\n",
       "      <td>42</td>\n",
       "      <td>Unknown3</td>\n",
       "    </tr>\n",
       "    <tr>\n",
       "      <th>43</th>\n",
       "      <td>43</td>\n",
       "      <td>Go right or straight</td>\n",
       "    </tr>\n",
       "    <tr>\n",
       "      <th>44</th>\n",
       "      <td>44</td>\n",
       "      <td>Go left or straight</td>\n",
       "    </tr>\n",
       "    <tr>\n",
       "      <th>45</th>\n",
       "      <td>45</td>\n",
       "      <td>Unknown4</td>\n",
       "    </tr>\n",
       "    <tr>\n",
       "      <th>46</th>\n",
       "      <td>46</td>\n",
       "      <td>ZigZag Curve</td>\n",
       "    </tr>\n",
       "    <tr>\n",
       "      <th>47</th>\n",
       "      <td>47</td>\n",
       "      <td>Train Crossing</td>\n",
       "    </tr>\n",
       "    <tr>\n",
       "      <th>48</th>\n",
       "      <td>48</td>\n",
       "      <td>Under Construction</td>\n",
       "    </tr>\n",
       "    <tr>\n",
       "      <th>49</th>\n",
       "      <td>49</td>\n",
       "      <td>Unknown5</td>\n",
       "    </tr>\n",
       "    <tr>\n",
       "      <th>50</th>\n",
       "      <td>50</td>\n",
       "      <td>Fences</td>\n",
       "    </tr>\n",
       "    <tr>\n",
       "      <th>51</th>\n",
       "      <td>51</td>\n",
       "      <td>Heavy Vehicle Accidents</td>\n",
       "    </tr>\n",
       "    <tr>\n",
       "      <th>52</th>\n",
       "      <td>52</td>\n",
       "      <td>Unknown6</td>\n",
       "    </tr>\n",
       "    <tr>\n",
       "      <th>53</th>\n",
       "      <td>53</td>\n",
       "      <td>Give Way</td>\n",
       "    </tr>\n",
       "    <tr>\n",
       "      <th>54</th>\n",
       "      <td>54</td>\n",
       "      <td>No stopping</td>\n",
       "    </tr>\n",
       "    <tr>\n",
       "      <th>55</th>\n",
       "      <td>55</td>\n",
       "      <td>No entry</td>\n",
       "    </tr>\n",
       "    <tr>\n",
       "      <th>56</th>\n",
       "      <td>56</td>\n",
       "      <td>Unknown7</td>\n",
       "    </tr>\n",
       "    <tr>\n",
       "      <th>57</th>\n",
       "      <td>57</td>\n",
       "      <td>Unknown8</td>\n",
       "    </tr>\n",
       "  </tbody>\n",
       "</table>\n",
       "</div>"
      ],
      "text/plain": [
       "    ClassId                          Name\n",
       "0         0           Speed limit (5km/h)\n",
       "1         1          Speed limit (15km/h)\n",
       "2         2          Speed limit (30km/h)\n",
       "3         3          Speed limit (40km/h)\n",
       "4         4          Speed limit (50km/h)\n",
       "5         5          Speed limit (60km/h)\n",
       "6         6          Speed limit (70km/h)\n",
       "7         7          speed limit (80km/h)\n",
       "8         8      Dont Go straight or left\n",
       "9         9     Dont Go straight or Right\n",
       "10       10              Dont Go straight\n",
       "11       11                  Dont Go Left\n",
       "12       12         Dont Go Left or Right\n",
       "13       13                 Dont Go Right\n",
       "14       14       Dont overtake from Left\n",
       "15       15                      No Uturn\n",
       "16       16                        No Car\n",
       "17       17                       No horn\n",
       "18       18          Speed limit (40km/h)\n",
       "19       19          Speed limit (50km/h)\n",
       "20       20          Go straight or right\n",
       "21       21                   Go straight\n",
       "22       22                       Go Left\n",
       "23       23              Go Left or right\n",
       "24       24                      Go Right\n",
       "25       25                     keep Left\n",
       "26       26                    keep Right\n",
       "27       27          Roundabout mandatory\n",
       "28       28            watch out for cars\n",
       "29       29                          Horn\n",
       "30       30             Bicycles crossing\n",
       "31       31                         Uturn\n",
       "32       32                  Road Divider\n",
       "33       33               Traffic signals\n",
       "34       34                  Danger Ahead\n",
       "35       35                Zebra Crossing\n",
       "36       36             Bicycles crossing\n",
       "37       37             Children crossing\n",
       "38       38   Dangerous curve to the left\n",
       "39       39  Dangerous curve to the right\n",
       "40       40                      Unknown1\n",
       "41       41                      Unknown2\n",
       "42       42                      Unknown3\n",
       "43       43          Go right or straight\n",
       "44       44           Go left or straight\n",
       "45       45                      Unknown4\n",
       "46       46                  ZigZag Curve\n",
       "47       47                Train Crossing\n",
       "48       48            Under Construction\n",
       "49       49                      Unknown5\n",
       "50       50                        Fences\n",
       "51       51       Heavy Vehicle Accidents\n",
       "52       52                      Unknown6\n",
       "53       53                      Give Way\n",
       "54       54                   No stopping\n",
       "55       55                      No entry\n",
       "56       56                      Unknown7\n",
       "57       57                      Unknown8"
      ]
     },
     "execution_count": 5,
     "metadata": {},
     "output_type": "execute_result"
    }
   ],
   "source": [
    "labels"
   ]
  },
  {
   "cell_type": "markdown",
   "id": "a2d34353",
   "metadata": {},
   "source": [
    "#### Data Exploration"
   ]
  },
  {
   "cell_type": "code",
   "execution_count": 27,
   "id": "f708ff8b",
   "metadata": {},
   "outputs": [
    {
     "name": "stdout",
     "output_type": "stream",
     "text": [
      "(108, 123, 3)\n"
     ]
    }
   ],
   "source": [
    "img = cv2.imread('C:\\\\Users\\\\boodo\\Documents\\\\Personal Projects\\\\Traffic_Sign_CNN\\\\traffic_Data\\\\DATA\\\\0\\\\000_1_0006.png')\n",
    "dimensions = img.shape\n",
    "print(dimensions)"
   ]
  },
  {
   "cell_type": "code",
   "execution_count": 28,
   "id": "5826ed6a",
   "metadata": {
    "scrolled": true
   },
   "outputs": [
    {
     "name": "stdout",
     "output_type": "stream",
     "text": [
      "(146, 154, 3)\n"
     ]
    }
   ],
   "source": [
    "img = cv2.imread('C:\\\\Users\\\\boodo\\Documents\\\\Personal Projects\\\\Traffic_Sign_CNN\\\\traffic_Data\\\\DATA\\\\17\\\\017_1_0006.png')\n",
    "dimensions = img.shape\n",
    "print(dimensions)"
   ]
  },
  {
   "cell_type": "markdown",
   "id": "6469ab30",
   "metadata": {},
   "source": [
    "### Hyperparameters and Constants"
   ]
  },
  {
   "cell_type": "code",
   "execution_count": 6,
   "id": "df2f79d7",
   "metadata": {},
   "outputs": [],
   "source": [
    "with open(\"C:\\\\Users\\\\boodo\\\\Documents\\\\Personal Projects\\\\Traffic_Sign_CNN\\\\hyperparameters\\\\hyperparameters.json\") as h:\n",
    "    hyperparameters = json.load(h)"
   ]
  },
  {
   "cell_type": "code",
   "execution_count": 7,
   "id": "df0306db",
   "metadata": {},
   "outputs": [],
   "source": [
    "epochs = hyperparameters[\"hyperparameters\"][0][\"epochs\"]\n",
    "epoch_steps = hyperparameters[\"hyperparameters\"][0][\"epch_steps\"]\n",
    "ratio = hyperparameters[\"hyperparameters\"][0][\"test_ratio\"]\n",
    "batch_size = hyperparameters[\"hyperparameters\"][0][\"batch_size\"]\n",
    "no_of_nodes = hyperparameters[\"hyperparameters\"][0][\"no_of_nodes\"]\n",
    "learning_rate = hyperparameters[\"hyperparameters\"][0][\"learning_rate\"]\n",
    "no_of_filters = hyperparameters[\"hyperparameters\"][0][\"no_of_filters\"]\n",
    "\n",
    "imageDimensions = (32,32,3)\n",
    "size_of_filters=(5,5)\n",
    "size_of_filters_2=(3,3)\n",
    "size_of_pool=(2,2)\n",
    "\n",
    "\n",
    "\n",
    "# for sake of initial dev, test ratio and validation ratio the same"
   ]
  },
  {
   "cell_type": "markdown",
   "id": "9f73e997",
   "metadata": {},
   "source": [
    "### Loading Image Data "
   ]
  },
  {
   "cell_type": "markdown",
   "id": "a4ba742a",
   "metadata": {},
   "source": [
    "#### Image data loaded in Grayscale, before additional preprocessing defined in img_preprocessing file"
   ]
  },
  {
   "cell_type": "code",
   "execution_count": 8,
   "id": "44540c9f",
   "metadata": {},
   "outputs": [
    {
     "name": "stdout",
     "output_type": "stream",
     "text": [
      "Class Count: 58\n"
     ]
    }
   ],
   "source": [
    "count = 0\n",
    "img_class = []\n",
    "images = []\n",
    "files = os.listdir(data_path)\n",
    "class_count = len(files)\n",
    "print(\"Class Count:\", class_count)\n",
    "\n",
    "\n",
    "for category in range (0,class_count):\n",
    "        sign_img=os.listdir(data_path + \"//\" + str(count))\n",
    "        for img in sign_img:\n",
    "            sign=cv2.imread(data_path+\"/\"+str(count)+\"/\"+ img, 0)\n",
    "            img_class.append(count)\n",
    "            images.append(sign)\n",
    "                \n",
    "        count=count+1\n",
    "\n"
   ]
  },
  {
   "cell_type": "markdown",
   "id": "3da4a700",
   "metadata": {},
   "source": [
    "#### Images and classes converted into numpy arrays"
   ]
  },
  {
   "cell_type": "code",
   "execution_count": 9,
   "id": "ebee23e4",
   "metadata": {},
   "outputs": [],
   "source": [
    "images = np.array(images, dtype=object)\n",
    "img_class = np.array(img_class, dtype=object)"
   ]
  },
  {
   "cell_type": "markdown",
   "id": "015b82d9",
   "metadata": {},
   "source": [
    "#### Test and train datasets created, train dataset along with shape printed to double check"
   ]
  },
  {
   "cell_type": "code",
   "execution_count": 10,
   "id": "09877131",
   "metadata": {},
   "outputs": [],
   "source": [
    "X_train, X_test, Y_train, Y_test = train_test_split(images,img_class,test_size=ratio)"
   ]
  },
  {
   "cell_type": "markdown",
   "id": "2e217641",
   "metadata": {},
   "source": [
    "#### Validation dataset created"
   ]
  },
  {
   "cell_type": "code",
   "execution_count": 11,
   "id": "11ad78d6",
   "metadata": {},
   "outputs": [],
   "source": [
    "X_train, X_validation ,Y_train, Y_validation = train_test_split(X_train,Y_train,test_size=ratio)"
   ]
  },
  {
   "cell_type": "markdown",
   "id": "1bbc31b3",
   "metadata": {},
   "source": [
    "#### Image preprocessing for model, grayscale images resized, and image pixel distributions resized"
   ]
  },
  {
   "cell_type": "code",
   "execution_count": 12,
   "id": "6fd96b6d",
   "metadata": {},
   "outputs": [],
   "source": [
    "def img_processing(img):\n",
    "    img = cv2.resize(img,(100,100))\n",
    "    img=cv2.equalizeHist(img)\n",
    "    img=img/255.0\n",
    "    \n",
    "    return img"
   ]
  },
  {
   "cell_type": "markdown",
   "id": "cc4e19b6",
   "metadata": {},
   "source": [
    "#### Mapping"
   ]
  },
  {
   "cell_type": "code",
   "execution_count": 13,
   "id": "59183d00",
   "metadata": {},
   "outputs": [],
   "source": [
    "X_train=np.array(list(map(img_processing,X_train)))\n",
    "X_validation=np.array(list(map(img_processing,X_validation)))\n",
    "X_test=np.array(list(map(img_processing,X_test)))\n",
    "\n",
    "\n",
    "Y_train=to_categorical(Y_train,class_count)\n",
    "Y_validation=to_categorical(Y_validation,class_count)\n",
    "Y_test=to_categorical(Y_test,class_count)\n"
   ]
  },
  {
   "cell_type": "code",
   "execution_count": 25,
   "id": "b857cf45",
   "metadata": {},
   "outputs": [
    {
     "name": "stdout",
     "output_type": "stream",
     "text": [
      "[[[0.53333333 0.88627451 0.98039216 ... 0.83137255 0.83137255 0.84705882]\n",
      "  [0.42352941 0.54901961 0.94117647 ... 0.83137255 0.83137255 0.84705882]\n",
      "  [0.06666667 0.49019608 0.88235294 ... 0.84705882 0.84705882 0.84705882]\n",
      "  ...\n",
      "  [0.76862745 0.74901961 0.72941176 ... 0.71764706 0.71764706 0.72941176]\n",
      "  [0.72941176 0.72941176 0.71764706 ... 0.71764706 0.72941176 0.72941176]\n",
      "  [0.70588235 0.70588235 0.68627451 ... 0.71764706 0.72941176 0.7372549 ]]\n",
      "\n",
      " [[0.37254902 0.88235294 0.89803922 ... 0.54901961 0.54901961 0.49411765]\n",
      "  [0.37254902 0.87058824 0.89019608 ... 0.64313725 0.64313725 0.54901961]\n",
      "  [0.38039216 0.85882353 0.89019608 ... 0.64313725 0.64313725 0.59215686]\n",
      "  ...\n",
      "  [0.37254902 0.34901961 0.35686275 ... 0.59215686 0.64313725 0.64313725]\n",
      "  [0.36862745 0.34901961 0.35686275 ... 0.54901961 0.64313725 0.70588235]\n",
      "  [0.36862745 0.3372549  0.34509804 ... 0.54901961 0.67843137 0.72941176]]\n",
      "\n",
      " [[0.99607843 0.99607843 0.99607843 ... 0.30196078 0.31764706 0.3254902 ]\n",
      "  [0.99607843 0.99607843 0.99607843 ... 0.85882353 0.79607843 0.85882353]\n",
      "  [0.99607843 1.         1.         ... 0.79607843 0.85882353 0.79607843]\n",
      "  ...\n",
      "  [0.71372549 0.57647059 0.57647059 ... 0.12941176 0.11372549 0.10196078]\n",
      "  [0.79607843 0.64313725 0.64313725 ... 0.11372549 0.10196078 0.09019608]\n",
      "  [0.98039216 0.98039216 0.98431373 ... 0.09019608 0.10196078 0.09019608]]\n",
      "\n",
      " ...\n",
      "\n",
      " [[0.91372549 0.9254902  0.91764706 ... 0.7372549  0.76078431 0.76078431]\n",
      "  [0.90196078 0.91764706 0.93333333 ... 0.73333333 0.76078431 0.75686275]\n",
      "  [0.92156863 0.94117647 0.94117647 ... 0.7372549  0.77647059 0.75686275]\n",
      "  ...\n",
      "  [0.19215686 0.19215686 0.20392157 ... 0.80784314 0.78823529 0.76862745]\n",
      "  [0.20784314 0.19215686 0.20392157 ... 0.83137255 0.8        0.76078431]\n",
      "  [0.21960784 0.21960784 0.23529412 ... 0.80784314 0.8        0.76862745]]\n",
      "\n",
      " [[0.4        0.44705882 0.4        ... 0.28235294 0.28235294 0.28235294]\n",
      "  [0.44705882 0.44705882 0.44705882 ... 0.36470588 0.4        0.4       ]\n",
      "  [0.5254902  0.76862745 0.5254902  ... 0.44705882 0.5254902  0.44705882]\n",
      "  ...\n",
      "  [0.88235294 0.95294118 0.76862745 ... 0.63529412 0.63529412 0.63529412]\n",
      "  [0.88235294 0.76862745 0.95294118 ... 0.76862745 0.76862745 0.63529412]\n",
      "  [0.95294118 0.76862745 0.76862745 ... 0.44705882 0.63529412 0.63529412]]\n",
      "\n",
      " [[0.96078431 0.98823529 0.99215686 ... 0.69803922 0.74117647 0.72156863]\n",
      "  [0.95294118 0.98039216 0.98823529 ... 0.7254902  0.75686275 0.72156863]\n",
      "  [0.90588235 0.96470588 0.96862745 ... 0.75686275 0.77254902 0.74117647]\n",
      "  ...\n",
      "  [0.         0.00784314 0.00784314 ... 0.16078431 0.31372549 0.29803922]\n",
      "  [0.         0.00392157 0.00392157 ... 0.19215686 0.31372549 0.30196078]\n",
      "  [0.         0.00392157 0.00392157 ... 0.16078431 0.32156863 0.36078431]]]\n"
     ]
    }
   ],
   "source": [
    "print(X_train)"
   ]
  },
  {
   "cell_type": "markdown",
   "id": "c9e6c68d",
   "metadata": {},
   "source": [
    "#### The following code is to test the saving of the datasets to files, as this will be done in the pipeline. Data needs to be reshaped to a 2D array before using the savetxt method. The data is then loaded and reshaped back into a 3D array"
   ]
  },
  {
   "cell_type": "code",
   "execution_count": 55,
   "id": "13dbfa34",
   "metadata": {},
   "outputs": [],
   "source": [
    "X_train_reshaped = X_train.reshape(X_train.shape[0] ,-1)\n",
    "np.savetxt(\"X_train.txt\", X_train_reshaped)"
   ]
  },
  {
   "cell_type": "code",
   "execution_count": 56,
   "id": "d66a4239",
   "metadata": {},
   "outputs": [],
   "source": [
    "loaded_X_train = np.loadtxt(\"X_train.txt\")"
   ]
  },
  {
   "cell_type": "code",
   "execution_count": 73,
   "id": "7ea8cded",
   "metadata": {},
   "outputs": [
    {
     "data": {
      "text/plain": [
       "100"
      ]
     },
     "execution_count": 73,
     "metadata": {},
     "output_type": "execute_result"
    }
   ],
   "source": [
    "X_train.shape[2]"
   ]
  },
  {
   "cell_type": "code",
   "execution_count": 57,
   "id": "a8ba1286",
   "metadata": {},
   "outputs": [],
   "source": [
    "X_train_org = loaded_X_train.reshape(loaded_X_train.shape[0], loaded_X_train.shape[1] // X_train.shape[2], X_train.shape[2])"
   ]
  },
  {
   "cell_type": "code",
   "execution_count": 58,
   "id": "d586d87c",
   "metadata": {},
   "outputs": [
    {
     "name": "stdout",
     "output_type": "stream",
     "text": [
      "pass\n"
     ]
    }
   ],
   "source": [
    "if (X_train==X_train_org).all():\n",
    "    print(\"pass\")"
   ]
  },
  {
   "cell_type": "code",
   "execution_count": 72,
   "id": "9bc7b121",
   "metadata": {},
   "outputs": [],
   "source": [
    "type(Y_train)\n",
    "np.savetxt(\"X_train.txt\", X_train_reshaped)"
   ]
  },
  {
   "cell_type": "markdown",
   "id": "c86ec842",
   "metadata": {},
   "source": [
    "#### Definition of CNN model"
   ]
  },
  {
   "cell_type": "code",
   "execution_count": 14,
   "id": "f5dd2db6",
   "metadata": {},
   "outputs": [],
   "source": [
    "def model():\n",
    "\n",
    "    \n",
    "    model=Sequential()\n",
    "    model.add((Conv2D(no_of_filters,size_of_filters,input_shape=(100,100,1),activation='relu')))\n",
    "    model.add((Conv2D(no_of_filters,size_of_filters,activation='relu')))\n",
    "    model.add(MaxPooling2D(pool_size=size_of_pool))\n",
    "\n",
    "    model.add((Conv2D(no_of_filters//2,size_of_filters_2,activation='relu')))\n",
    "    model.add((Conv2D(no_of_filters//2,size_of_filters_2,activation='relu')))\n",
    "    model.add(MaxPooling2D(pool_size=size_of_pool))\n",
    "    model.add(Dropout(0.5))\n",
    "\n",
    "    model.add(Flatten())\n",
    "    model.add(Dense(no_of_nodes,activation='relu'))\n",
    "    model.add(Dropout(0.5))\n",
    "    model.add(Dense(class_count,activation='softmax'))\n",
    "    model.summary()\n",
    "    model.compile(Adam(learning_rate=learning_rate),loss='categorical_crossentropy',metrics=['accuracy'])\n",
    "    \n",
    "    return model"
   ]
  },
  {
   "cell_type": "markdown",
   "id": "292a4ec4",
   "metadata": {},
   "source": [
    "#### Model training "
   ]
  },
  {
   "cell_type": "code",
   "execution_count": 56,
   "id": "63e003aa",
   "metadata": {},
   "outputs": [],
   "source": [
    "callbacks = [\n",
    "    GradCAMCallback(\n",
    "        validation_data=(X_validation, Y_validation),\n",
    "        class_index=0,\n",
    "        output_dir=\"gradcam\",\n",
    "    )\n",
    "]"
   ]
  },
  {
   "cell_type": "code",
   "execution_count": 15,
   "id": "892c348d",
   "metadata": {},
   "outputs": [
    {
     "name": "stdout",
     "output_type": "stream",
     "text": [
      "Model: \"sequential\"\n",
      "_________________________________________________________________\n",
      " Layer (type)                Output Shape              Param #   \n",
      "=================================================================\n",
      " conv2d (Conv2D)             (None, 96, 96, 60)        1560      \n",
      "                                                                 \n",
      " conv2d_1 (Conv2D)           (None, 92, 92, 60)        90060     \n",
      "                                                                 \n",
      " max_pooling2d (MaxPooling2D  (None, 46, 46, 60)       0         \n",
      " )                                                               \n",
      "                                                                 \n",
      " conv2d_2 (Conv2D)           (None, 44, 44, 30)        16230     \n",
      "                                                                 \n",
      " conv2d_3 (Conv2D)           (None, 42, 42, 30)        8130      \n",
      "                                                                 \n",
      " max_pooling2d_1 (MaxPooling  (None, 21, 21, 30)       0         \n",
      " 2D)                                                             \n",
      "                                                                 \n",
      " dropout (Dropout)           (None, 21, 21, 30)        0         \n",
      "                                                                 \n",
      " flatten (Flatten)           (None, 13230)             0         \n",
      "                                                                 \n",
      " dense (Dense)               (None, 500)               6615500   \n",
      "                                                                 \n",
      " dropout_1 (Dropout)         (None, 500)               0         \n",
      "                                                                 \n",
      " dense_1 (Dense)             (None, 58)                29058     \n",
      "                                                                 \n",
      "=================================================================\n",
      "Total params: 6,760,538\n",
      "Trainable params: 6,760,538\n",
      "Non-trainable params: 0\n",
      "_________________________________________________________________\n",
      "Epoch 1/20\n",
      "100/100 [==============================] - 85s 828ms/step - loss: 3.5185 - accuracy: 0.1490 - val_loss: 2.7866 - val_accuracy: 0.3608\n",
      "Epoch 2/20\n",
      "100/100 [==============================] - 83s 831ms/step - loss: 2.1599 - accuracy: 0.4980 - val_loss: 1.3925 - val_accuracy: 0.6407\n",
      "Epoch 3/20\n",
      "100/100 [==============================] - 84s 837ms/step - loss: 1.0984 - accuracy: 0.7204 - val_loss: 0.7984 - val_accuracy: 0.8099\n",
      "Epoch 4/20\n",
      "100/100 [==============================] - 83s 831ms/step - loss: 0.7391 - accuracy: 0.8140 - val_loss: 0.6534 - val_accuracy: 0.8383\n",
      "Epoch 5/20\n",
      "100/100 [==============================] - 85s 849ms/step - loss: 0.5880 - accuracy: 0.8390 - val_loss: 0.4864 - val_accuracy: 0.8787\n",
      "Epoch 6/20\n",
      "100/100 [==============================] - 86s 866ms/step - loss: 0.2917 - accuracy: 0.9198 - val_loss: 0.4656 - val_accuracy: 0.8713\n",
      "Epoch 7/20\n",
      "100/100 [==============================] - 85s 846ms/step - loss: 0.2837 - accuracy: 0.9220 - val_loss: 0.3727 - val_accuracy: 0.9222\n",
      "Epoch 8/20\n",
      "100/100 [==============================] - 84s 845ms/step - loss: 0.2598 - accuracy: 0.9290 - val_loss: 0.3287 - val_accuracy: 0.9266\n",
      "Epoch 9/20\n",
      "100/100 [==============================] - 84s 847ms/step - loss: 0.1473 - accuracy: 0.9509 - val_loss: 0.3529 - val_accuracy: 0.9222\n",
      "Epoch 10/20\n",
      "100/100 [==============================] - 84s 846ms/step - loss: 0.1698 - accuracy: 0.9490 - val_loss: 0.3161 - val_accuracy: 0.9326\n",
      "Epoch 11/20\n",
      "100/100 [==============================] - 84s 845ms/step - loss: 0.1640 - accuracy: 0.9489 - val_loss: 0.3078 - val_accuracy: 0.9311\n",
      "Epoch 12/20\n",
      "100/100 [==============================] - 84s 843ms/step - loss: 0.1238 - accuracy: 0.9580 - val_loss: 0.2963 - val_accuracy: 0.9371\n",
      "Epoch 13/20\n",
      "100/100 [==============================] - 84s 845ms/step - loss: 0.1186 - accuracy: 0.9710 - val_loss: 0.2931 - val_accuracy: 0.9461\n",
      "Epoch 14/20\n",
      "100/100 [==============================] - 84s 843ms/step - loss: 0.0361 - accuracy: 0.9900 - val_loss: 0.3344 - val_accuracy: 0.9566\n",
      "Epoch 15/20\n",
      "100/100 [==============================] - 84s 841ms/step - loss: 0.0671 - accuracy: 0.9810 - val_loss: 0.3182 - val_accuracy: 0.9401\n",
      "Epoch 16/20\n",
      "100/100 [==============================] - 84s 844ms/step - loss: 0.0576 - accuracy: 0.9830 - val_loss: 0.2912 - val_accuracy: 0.9446\n",
      "Epoch 17/20\n",
      "100/100 [==============================] - 86s 860ms/step - loss: 0.0859 - accuracy: 0.9689 - val_loss: 0.2885 - val_accuracy: 0.9446\n",
      "Epoch 18/20\n",
      "100/100 [==============================] - 86s 859ms/step - loss: 0.0984 - accuracy: 0.9710 - val_loss: 0.3009 - val_accuracy: 0.9476\n",
      "Epoch 19/20\n",
      "100/100 [==============================] - 84s 843ms/step - loss: 0.0665 - accuracy: 0.9830 - val_loss: 0.2687 - val_accuracy: 0.9551\n",
      "Epoch 20/20\n",
      "100/100 [==============================] - 85s 848ms/step - loss: 0.0588 - accuracy: 0.9830 - val_loss: 0.2759 - val_accuracy: 0.9341\n",
      "Test Score:  0.3070887625217438\n",
      "Test Accuracy:  0.9472422003746033\n"
     ]
    }
   ],
   "source": [
    "model=model()\n",
    "cnn_model=model.fit(X_train, Y_train,batch_size=batch_size,steps_per_epoch=epoch_steps,epochs=epochs,validation_data=(X_validation, Y_validation),shuffle=1)\n",
    "score=model.evaluate(X_test,Y_test,verbose=0)\n",
    "print('Test Score: ',score[0])\n",
    "print('Test Accuracy: ',score[1])"
   ]
  },
  {
   "cell_type": "markdown",
   "id": "88b60b23",
   "metadata": {},
   "source": [
    "#### Model Scoring"
   ]
  },
  {
   "cell_type": "code",
   "execution_count": 16,
   "id": "849de327",
   "metadata": {},
   "outputs": [
    {
     "name": "stdout",
     "output_type": "stream",
     "text": [
      "Eval Score:  0.3070887625217438\n",
      "Eval Accuracy:  0.9472422003746033\n"
     ]
    }
   ],
   "source": [
    "score=model.evaluate(X_test,Y_test,verbose=0)\n",
    "print('Eval Score: ',score[0])\n",
    "print('Eval Accuracy: ',score[1])"
   ]
  },
  {
   "cell_type": "markdown",
   "id": "def81ebe",
   "metadata": {},
   "source": [
    "#### Plotting of accuracy and loss, for training and validation"
   ]
  },
  {
   "cell_type": "code",
   "execution_count": 17,
   "id": "a2e84cdc",
   "metadata": {},
   "outputs": [
    {
     "name": "stdout",
     "output_type": "stream",
     "text": [
      "dict_keys(['loss', 'accuracy', 'val_loss', 'val_accuracy'])\n"
     ]
    },
    {
     "data": {
      "image/png": "[encoded data removed]",
      "text/plain": [
       "<Figure size 432x288 with 1 Axes>"
      ]
     },
     "metadata": {
      "needs_background": "light"
     },
     "output_type": "display_data"
    },
    {
     "data": {
      "image/png": "[encoded data removed]",
      "text/plain": [
       "<Figure size 432x288 with 1 Axes>"
      ]
     },
     "metadata": {
      "needs_background": "light"
     },
     "output_type": "display_data"
    }
   ],
   "source": [
    "print(cnn_model.history.keys())\n",
    "#  \"Accuracy\"\n",
    "plt.plot(cnn_model.history['accuracy'])\n",
    "plt.plot(cnn_model.history['val_accuracy'])\n",
    "plt.title('model accuracy')\n",
    "plt.ylabel('accuracy')\n",
    "plt.xlabel('epoch')\n",
    "plt.legend(['train', 'validation'], loc='upper left')\n",
    "plt.show()\n",
    "# \"Loss\"\n",
    "plt.plot(cnn_model.history['loss'])\n",
    "plt.plot(cnn_model.history['val_loss'])\n",
    "plt.title('model loss')\n",
    "plt.ylabel('loss')\n",
    "plt.xlabel('epoch')\n",
    "plt.legend(['train', 'validation'], loc='upper left')\n",
    "plt.show()"
   ]
  },
  {
   "cell_type": "code",
   "execution_count": 22,
   "id": "9428cfae",
   "metadata": {},
   "outputs": [],
   "source": [
    "def overlay_heatmap(heatmap, image, alpha=0.5, colormap=cv2.COLORMAP_JET):\n",
    "    # apply the supplied color map to the heatmap and then\n",
    "    # overlay the heatmap on the input image\n",
    "    heatmap = cv2.applyColorMap(heatmap, colormap)\n",
    "    output = cv2.addWeighted(image, alpha, heatmap, 1 - alpha, 0)\n",
    "    # return a 2-tuple of the color mapped heatmap and the output,\n",
    "    # overlaid image\n",
    "    return heatmap,output"
   ]
  },
  {
   "cell_type": "code",
   "execution_count": 18,
   "id": "7d488c3c",
   "metadata": {},
   "outputs": [],
   "source": [
    "explainer = GradCAM()"
   ]
  },
  {
   "cell_type": "code",
   "execution_count": 20,
   "id": "5dcfe52c",
   "metadata": {},
   "outputs": [],
   "source": [
    "heatmap1= explainer.explain((X_validation, Y_validation),model, class_index = 0)"
   ]
  },
  {
   "cell_type": "code",
   "execution_count": 26,
   "id": "3e1d5c1c",
   "metadata": {},
   "outputs": [
    {
     "ename": "ValueError",
     "evalue": "Input 0 of layer \"model_5\" is incompatible with the layer: expected shape=(None, 100, 100, 1), found shape=(668, 58)",
     "output_type": "error",
     "traceback": [
      "\u001b[1;31m---------------------------------------------------------------------------\u001b[0m",
      "\u001b[1;31mValueError\u001b[0m                                Traceback (most recent call last)",
      "Input \u001b[1;32mIn [26]\u001b[0m, in \u001b[0;36m<cell line: 2>\u001b[1;34m()\u001b[0m\n\u001b[0;32m      1\u001b[0m count \u001b[38;5;241m=\u001b[39m \u001b[38;5;241m0\u001b[39m\n\u001b[0;32m      2\u001b[0m \u001b[38;5;28;01mfor\u001b[39;00m img \u001b[38;5;129;01min\u001b[39;00m X_validation, Y_validation:\n\u001b[1;32m----> 3\u001b[0m     heatmap1\u001b[38;5;241m=\u001b[39m \u001b[43mexplainer\u001b[49m\u001b[38;5;241;43m.\u001b[39;49m\u001b[43mexplain\u001b[49m\u001b[43m(\u001b[49m\u001b[43m(\u001b[49m\u001b[43mimg\u001b[49m\u001b[43m,\u001b[49m\u001b[43m \u001b[49m\u001b[43mimg\u001b[49m\u001b[43m)\u001b[49m\u001b[43m,\u001b[49m\u001b[43mmodel\u001b[49m\u001b[43m,\u001b[49m\u001b[43m \u001b[49m\u001b[43mclass_index\u001b[49m\u001b[43m \u001b[49m\u001b[38;5;241;43m=\u001b[39;49m\u001b[43m \u001b[49m\u001b[38;5;241;43m0\u001b[39;49m\u001b[43m)\u001b[49m\n\u001b[0;32m      4\u001b[0m     explainer\u001b[38;5;241m.\u001b[39msave(heatmap1, \u001b[38;5;124m\"\u001b[39m\u001b[38;5;124mexplained_imgs\u001b[39m\u001b[38;5;124m\"\u001b[39m, \u001b[38;5;124m\"\u001b[39m\u001b[38;5;124mexplainer\u001b[39m\u001b[38;5;124m\"\u001b[39m \u001b[38;5;241m+\u001b[39m \u001b[38;5;124m\"\u001b[39m\u001b[38;5;124m_\u001b[39m\u001b[38;5;124m\"\u001b[39m \u001b[38;5;241m+\u001b[39m \u001b[38;5;28mstr\u001b[39m(count)\u001b[38;5;241m+\u001b[39m \u001b[38;5;124m\"\u001b[39m\u001b[38;5;124m.png\u001b[39m\u001b[38;5;124m\"\u001b[39m)\n\u001b[0;32m      5\u001b[0m     count\u001b[38;5;241m+\u001b[39m\u001b[38;5;241m=\u001b[39m\u001b[38;5;241m1\u001b[39m\n",
      "File \u001b[1;32m~\\anaconda3\\lib\\site-packages\\tf_explain\\core\\grad_cam.py:54\u001b[0m, in \u001b[0;36mGradCAM.explain\u001b[1;34m(self, validation_data, model, class_index, layer_name, use_guided_grads, colormap, image_weight)\u001b[0m\n\u001b[0;32m     51\u001b[0m \u001b[38;5;28;01mif\u001b[39;00m layer_name \u001b[38;5;129;01mis\u001b[39;00m \u001b[38;5;28;01mNone\u001b[39;00m:\n\u001b[0;32m     52\u001b[0m     layer_name \u001b[38;5;241m=\u001b[39m \u001b[38;5;28mself\u001b[39m\u001b[38;5;241m.\u001b[39minfer_grad_cam_target_layer(model)\n\u001b[1;32m---> 54\u001b[0m outputs, grads \u001b[38;5;241m=\u001b[39m \u001b[43mGradCAM\u001b[49m\u001b[38;5;241;43m.\u001b[39;49m\u001b[43mget_gradients_and_filters\u001b[49m\u001b[43m(\u001b[49m\n\u001b[0;32m     55\u001b[0m \u001b[43m    \u001b[49m\u001b[43mmodel\u001b[49m\u001b[43m,\u001b[49m\u001b[43m \u001b[49m\u001b[43mimages\u001b[49m\u001b[43m,\u001b[49m\u001b[43m \u001b[49m\u001b[43mlayer_name\u001b[49m\u001b[43m,\u001b[49m\u001b[43m \u001b[49m\u001b[43mclass_index\u001b[49m\u001b[43m,\u001b[49m\u001b[43m \u001b[49m\u001b[43muse_guided_grads\u001b[49m\n\u001b[0;32m     56\u001b[0m \u001b[43m\u001b[49m\u001b[43m)\u001b[49m\n\u001b[0;32m     58\u001b[0m cams \u001b[38;5;241m=\u001b[39m GradCAM\u001b[38;5;241m.\u001b[39mgenerate_ponderated_output(outputs, grads)\n\u001b[0;32m     60\u001b[0m heatmaps \u001b[38;5;241m=\u001b[39m np\u001b[38;5;241m.\u001b[39marray(\n\u001b[0;32m     61\u001b[0m     [\n\u001b[0;32m     62\u001b[0m         \u001b[38;5;66;03m# not showing the actual image if image_weight=0\u001b[39;00m\n\u001b[1;32m   (...)\u001b[0m\n\u001b[0;32m     65\u001b[0m     ]\n\u001b[0;32m     66\u001b[0m )\n",
      "File \u001b[1;32m~\\anaconda3\\lib\\site-packages\\tf_explain\\core\\grad_cam.py:117\u001b[0m, in \u001b[0;36mGradCAM.get_gradients_and_filters\u001b[1;34m(model, images, layer_name, class_index, use_guided_grads)\u001b[0m\n\u001b[0;32m    115\u001b[0m     inputs \u001b[38;5;241m=\u001b[39m tf\u001b[38;5;241m.\u001b[39mcast(images, tf\u001b[38;5;241m.\u001b[39mfloat32)\n\u001b[0;32m    116\u001b[0m     tape\u001b[38;5;241m.\u001b[39mwatch(inputs)\n\u001b[1;32m--> 117\u001b[0m     conv_outputs, predictions \u001b[38;5;241m=\u001b[39m \u001b[43mgrad_model\u001b[49m\u001b[43m(\u001b[49m\u001b[43minputs\u001b[49m\u001b[43m)\u001b[49m\n\u001b[0;32m    118\u001b[0m     loss \u001b[38;5;241m=\u001b[39m predictions[:, class_index]\n\u001b[0;32m    120\u001b[0m grads \u001b[38;5;241m=\u001b[39m tape\u001b[38;5;241m.\u001b[39mgradient(loss, conv_outputs)\n",
      "File \u001b[1;32m~\\anaconda3\\lib\\site-packages\\keras\\utils\\traceback_utils.py:67\u001b[0m, in \u001b[0;36mfilter_traceback.<locals>.error_handler\u001b[1;34m(*args, **kwargs)\u001b[0m\n\u001b[0;32m     65\u001b[0m \u001b[38;5;28;01mexcept\u001b[39;00m \u001b[38;5;167;01mException\u001b[39;00m \u001b[38;5;28;01mas\u001b[39;00m e:  \u001b[38;5;66;03m# pylint: disable=broad-except\u001b[39;00m\n\u001b[0;32m     66\u001b[0m   filtered_tb \u001b[38;5;241m=\u001b[39m _process_traceback_frames(e\u001b[38;5;241m.\u001b[39m__traceback__)\n\u001b[1;32m---> 67\u001b[0m   \u001b[38;5;28;01mraise\u001b[39;00m e\u001b[38;5;241m.\u001b[39mwith_traceback(filtered_tb) \u001b[38;5;28;01mfrom\u001b[39;00m \u001b[38;5;28mNone\u001b[39m\n\u001b[0;32m     68\u001b[0m \u001b[38;5;28;01mfinally\u001b[39;00m:\n\u001b[0;32m     69\u001b[0m   \u001b[38;5;28;01mdel\u001b[39;00m filtered_tb\n",
      "File \u001b[1;32m~\\anaconda3\\lib\\site-packages\\keras\\engine\\input_spec.py:264\u001b[0m, in \u001b[0;36massert_input_compatibility\u001b[1;34m(input_spec, inputs, layer_name)\u001b[0m\n\u001b[0;32m    262\u001b[0m \u001b[38;5;28;01mif\u001b[39;00m spec_dim \u001b[38;5;129;01mis\u001b[39;00m \u001b[38;5;129;01mnot\u001b[39;00m \u001b[38;5;28;01mNone\u001b[39;00m \u001b[38;5;129;01mand\u001b[39;00m dim \u001b[38;5;129;01mis\u001b[39;00m \u001b[38;5;129;01mnot\u001b[39;00m \u001b[38;5;28;01mNone\u001b[39;00m:\n\u001b[0;32m    263\u001b[0m   \u001b[38;5;28;01mif\u001b[39;00m spec_dim \u001b[38;5;241m!=\u001b[39m dim:\n\u001b[1;32m--> 264\u001b[0m     \u001b[38;5;28;01mraise\u001b[39;00m \u001b[38;5;167;01mValueError\u001b[39;00m(\u001b[38;5;124mf\u001b[39m\u001b[38;5;124m'\u001b[39m\u001b[38;5;124mInput \u001b[39m\u001b[38;5;132;01m{\u001b[39;00minput_index\u001b[38;5;132;01m}\u001b[39;00m\u001b[38;5;124m of layer \u001b[39m\u001b[38;5;124m\"\u001b[39m\u001b[38;5;132;01m{\u001b[39;00mlayer_name\u001b[38;5;132;01m}\u001b[39;00m\u001b[38;5;124m\"\u001b[39m\u001b[38;5;124m is \u001b[39m\u001b[38;5;124m'\u001b[39m\n\u001b[0;32m    265\u001b[0m                      \u001b[38;5;124m'\u001b[39m\u001b[38;5;124mincompatible with the layer: \u001b[39m\u001b[38;5;124m'\u001b[39m\n\u001b[0;32m    266\u001b[0m                      \u001b[38;5;124mf\u001b[39m\u001b[38;5;124m'\u001b[39m\u001b[38;5;124mexpected shape=\u001b[39m\u001b[38;5;132;01m{\u001b[39;00mspec\u001b[38;5;241m.\u001b[39mshape\u001b[38;5;132;01m}\u001b[39;00m\u001b[38;5;124m, \u001b[39m\u001b[38;5;124m'\u001b[39m\n\u001b[0;32m    267\u001b[0m                      \u001b[38;5;124mf\u001b[39m\u001b[38;5;124m'\u001b[39m\u001b[38;5;124mfound shape=\u001b[39m\u001b[38;5;132;01m{\u001b[39;00mdisplay_shape(x\u001b[38;5;241m.\u001b[39mshape)\u001b[38;5;132;01m}\u001b[39;00m\u001b[38;5;124m'\u001b[39m)\n",
      "\u001b[1;31mValueError\u001b[0m: Input 0 of layer \"model_5\" is incompatible with the layer: expected shape=(None, 100, 100, 1), found shape=(668, 58)"
     ]
    }
   ],
   "source": [
    "count = 0\n",
    "for img in X_validation, Y_validation:\n",
    "    heatmap1= explainer.explain((img, img),model, class_index = 0)\n",
    "    explainer.save(heatmap1, \"explained_imgs\", \"explainer\" + \"_\" + str(count)+ \".png\")\n",
    "    count+=1\n",
    "    \n",
    "    # heatmap2, output = overlay_heatmap(output,img)"
   ]
  },
  {
   "cell_type": "code",
   "execution_count": null,
   "id": "d87bdb66",
   "metadata": {},
   "outputs": [],
   "source": []
  },
  {
   "cell_type": "code",
   "execution_count": null,
   "id": "7c63f4db",
   "metadata": {},
   "outputs": [],
   "source": [
    "heatmap2, output = overlay_heatmap(output,image)"
   ]
  },
  {
   "cell_type": "code",
   "execution_count": 21,
   "id": "b58c113c",
   "metadata": {},
   "outputs": [],
   "source": [
    "explainer.save(output, \".\", \"explainer.png\")"
   ]
  }
 ],
 "metadata": {
  "kernelspec": {
   "display_name": "Python 3 (ipykernel)",
   "language": "python",
   "name": "python3"
  },
  "language_info": {
   "codemirror_mode": {
    "name": "ipython",
    "version": 3
   },
   "file_extension": ".py",
   "mimetype": "text/x-python",
   "name": "python",
   "nbconvert_exporter": "python",
   "pygments_lexer": "ipython3",
   "version": "3.9.12"
  }
 },
 "nbformat": 4,
 "nbformat_minor": 5
}
